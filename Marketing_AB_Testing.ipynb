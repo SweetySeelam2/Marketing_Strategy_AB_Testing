{
 "cells": [
  {
   "cell_type": "markdown",
   "id": "ca798ec9-af95-430f-afdb-70cba6a20dbe",
   "metadata": {},
   "source": [
    "## 🔐 Proprietary & All Rights Reserved\n",
    "\n",
    "© 2025 Sweety Seelam. All rights reserved.\n",
    "\n",
    "This project, including its source code, trained models, datasets (where applicable), visuals, and dashboard assets, is protected under copyright and made available for educational and demonstrative purposes only.\n",
    "\n",
    "Unauthorized commercial use, redistribution, or duplication of any part of this project is strictly prohibited.                       \n",
    "\n",
    "------\n",
    "------"
   ]
  },
  {
   "cell_type": "markdown",
   "id": "dc3fa1a8",
   "metadata": {},
   "source": [
    "# Marketing A/B Testing + Conversion Prediction\n",
    "\n",
    "A complete analysis combining A/B testing, Logistic Regression, and a Random Forest model to analyze and predict user conversion behavior, optimized for large-scale marketing campaigns.\n",
    "\n",
    "---\n",
    "\n",
    "## Table of Contents\n",
    "1. [ Business Objective](#Business-Objective)\n",
    "2. [ A/B Testing (T-Test)](#AB-Testing)\n",
    "3. [ Logistic Regression Model](#Logistic-Regression)\n",
    "4. [ Random Forest Model](#Random-Forest)\n",
    "5. [ Results & Evaluation](#Results)\n",
    "6. [ Conclusions & Recommendations](#Conclusion)\n"
   ]
  },
  {
   "cell_type": "markdown",
   "id": "1c076002",
   "metadata": {},
   "source": [
    "## Business Objective\n",
    "Amazon wanted to validate whether a newly launched paid ad strategy improves user conversion compared to PSA (public service announcements). The analysis includes:\n",
    "- A/B testing between `ad` and `psa` groups\n",
    "- Identifying peak conversion hours and days\n",
    "- Predicting user conversion using Logistic Regression and Random Forest\n"
   ]
  },
  {
   "cell_type": "markdown",
   "id": "724497b1",
   "metadata": {},
   "source": [
    "## PART 1: A/B Testing (T-Test)"
   ]
  },
  {
   "cell_type": "code",
   "execution_count": 1,
   "id": "3836f943-209c-4a56-995e-3d5343be5661",
   "metadata": {},
   "outputs": [],
   "source": [
    "import pandas as pd\n",
    "from scipy import stats"
   ]
  },
  {
   "cell_type": "code",
   "execution_count": 4,
   "id": "94c7c0a5-ba5e-4916-8aff-e4b133548e01",
   "metadata": {},
   "outputs": [],
   "source": [
    "df = pd.read_csv(r'C:\\Users\\sweet\\Desktop\\DataScience\\Github projects\\Deployment files\\Marketing-AB-Testing-streamlit\\data\\Marketing_AB_Testing.csv')"
   ]
  },
  {
   "cell_type": "code",
   "execution_count": 5,
   "id": "a26e739d-9386-4a44-aae8-b1ff019d0b51",
   "metadata": {},
   "outputs": [
    {
     "name": "stdout",
     "output_type": "stream",
     "text": [
      "[False  True]\n",
      "converted\n",
      "False    573258\n",
      "True      14843\n",
      "Name: count, dtype: int64\n",
      "bool\n"
     ]
    }
   ],
   "source": [
    "# BEFORE conversion (if you haven't already converted)\n",
    "print(df['converted'].unique())\n",
    "print(df['converted'].value_counts())\n",
    "print(df['converted'].dtype)"
   ]
  },
  {
   "cell_type": "code",
   "execution_count": 6,
   "id": "bfe54ccf-264d-4ffd-82a0-09af7eeaec69",
   "metadata": {},
   "outputs": [],
   "source": [
    "df['test group'] = df['test group'].map({'psa': 0, 'ad': 1})\n",
    "df['converted'] = df['converted'].astype(int)"
   ]
  },
  {
   "cell_type": "code",
   "execution_count": 7,
   "id": "4c29412d-f72a-4730-b84b-e9a5a2dcbf31",
   "metadata": {},
   "outputs": [],
   "source": [
    "ad = df[df[\"test group\"] == 1][\"converted\"]\n",
    "psa = df[df[\"test group\"] == 0][\"converted\"]"
   ]
  },
  {
   "cell_type": "code",
   "execution_count": 8,
   "id": "4dac1d66-6797-4122-99ba-909ae5ac1c6f",
   "metadata": {},
   "outputs": [
    {
     "data": {
      "text/html": [
       "<div>\n",
       "<style scoped>\n",
       "    .dataframe tbody tr th:only-of-type {\n",
       "        vertical-align: middle;\n",
       "    }\n",
       "\n",
       "    .dataframe tbody tr th {\n",
       "        vertical-align: top;\n",
       "    }\n",
       "\n",
       "    .dataframe thead th {\n",
       "        text-align: right;\n",
       "    }\n",
       "</style>\n",
       "<table border=\"1\" class=\"dataframe\">\n",
       "  <thead>\n",
       "    <tr style=\"text-align: right;\">\n",
       "      <th></th>\n",
       "      <th>Unnamed: 0</th>\n",
       "      <th>user id</th>\n",
       "      <th>test group</th>\n",
       "      <th>converted</th>\n",
       "      <th>total ads</th>\n",
       "      <th>most ads day</th>\n",
       "      <th>most ads hour</th>\n",
       "    </tr>\n",
       "  </thead>\n",
       "  <tbody>\n",
       "    <tr>\n",
       "      <th>0</th>\n",
       "      <td>0</td>\n",
       "      <td>1069124</td>\n",
       "      <td>1</td>\n",
       "      <td>0</td>\n",
       "      <td>130</td>\n",
       "      <td>Monday</td>\n",
       "      <td>20</td>\n",
       "    </tr>\n",
       "    <tr>\n",
       "      <th>1</th>\n",
       "      <td>1</td>\n",
       "      <td>1119715</td>\n",
       "      <td>1</td>\n",
       "      <td>0</td>\n",
       "      <td>93</td>\n",
       "      <td>Tuesday</td>\n",
       "      <td>22</td>\n",
       "    </tr>\n",
       "    <tr>\n",
       "      <th>2</th>\n",
       "      <td>2</td>\n",
       "      <td>1144181</td>\n",
       "      <td>1</td>\n",
       "      <td>0</td>\n",
       "      <td>21</td>\n",
       "      <td>Tuesday</td>\n",
       "      <td>18</td>\n",
       "    </tr>\n",
       "    <tr>\n",
       "      <th>3</th>\n",
       "      <td>3</td>\n",
       "      <td>1435133</td>\n",
       "      <td>1</td>\n",
       "      <td>0</td>\n",
       "      <td>355</td>\n",
       "      <td>Tuesday</td>\n",
       "      <td>10</td>\n",
       "    </tr>\n",
       "    <tr>\n",
       "      <th>4</th>\n",
       "      <td>4</td>\n",
       "      <td>1015700</td>\n",
       "      <td>1</td>\n",
       "      <td>0</td>\n",
       "      <td>276</td>\n",
       "      <td>Friday</td>\n",
       "      <td>14</td>\n",
       "    </tr>\n",
       "    <tr>\n",
       "      <th>5</th>\n",
       "      <td>5</td>\n",
       "      <td>1137664</td>\n",
       "      <td>1</td>\n",
       "      <td>0</td>\n",
       "      <td>734</td>\n",
       "      <td>Saturday</td>\n",
       "      <td>10</td>\n",
       "    </tr>\n",
       "    <tr>\n",
       "      <th>6</th>\n",
       "      <td>6</td>\n",
       "      <td>1116205</td>\n",
       "      <td>1</td>\n",
       "      <td>0</td>\n",
       "      <td>264</td>\n",
       "      <td>Wednesday</td>\n",
       "      <td>13</td>\n",
       "    </tr>\n",
       "    <tr>\n",
       "      <th>7</th>\n",
       "      <td>7</td>\n",
       "      <td>1496843</td>\n",
       "      <td>1</td>\n",
       "      <td>0</td>\n",
       "      <td>17</td>\n",
       "      <td>Sunday</td>\n",
       "      <td>18</td>\n",
       "    </tr>\n",
       "    <tr>\n",
       "      <th>8</th>\n",
       "      <td>8</td>\n",
       "      <td>1448851</td>\n",
       "      <td>1</td>\n",
       "      <td>0</td>\n",
       "      <td>21</td>\n",
       "      <td>Tuesday</td>\n",
       "      <td>19</td>\n",
       "    </tr>\n",
       "    <tr>\n",
       "      <th>9</th>\n",
       "      <td>9</td>\n",
       "      <td>1446284</td>\n",
       "      <td>1</td>\n",
       "      <td>0</td>\n",
       "      <td>142</td>\n",
       "      <td>Monday</td>\n",
       "      <td>14</td>\n",
       "    </tr>\n",
       "  </tbody>\n",
       "</table>\n",
       "</div>"
      ],
      "text/plain": [
       "   Unnamed: 0  user id  test group  converted  total ads most ads day  \\\n",
       "0           0  1069124           1          0        130       Monday   \n",
       "1           1  1119715           1          0         93      Tuesday   \n",
       "2           2  1144181           1          0         21      Tuesday   \n",
       "3           3  1435133           1          0        355      Tuesday   \n",
       "4           4  1015700           1          0        276       Friday   \n",
       "5           5  1137664           1          0        734     Saturday   \n",
       "6           6  1116205           1          0        264    Wednesday   \n",
       "7           7  1496843           1          0         17       Sunday   \n",
       "8           8  1448851           1          0         21      Tuesday   \n",
       "9           9  1446284           1          0        142       Monday   \n",
       "\n",
       "   most ads hour  \n",
       "0             20  \n",
       "1             22  \n",
       "2             18  \n",
       "3             10  \n",
       "4             14  \n",
       "5             10  \n",
       "6             13  \n",
       "7             18  \n",
       "8             19  \n",
       "9             14  "
      ]
     },
     "execution_count": 8,
     "metadata": {},
     "output_type": "execute_result"
    }
   ],
   "source": [
    "df.head(10)"
   ]
  },
  {
   "cell_type": "code",
   "execution_count": 9,
   "id": "3e6a2631-a6d3-4e63-b8b3-9785686265b5",
   "metadata": {},
   "outputs": [],
   "source": [
    "# Calculate conversion rates for both groups\n",
    "conversion_rates = df.groupby(\"test group\")[\"converted\"].mean().reset_index()\n",
    "conversion_rates.columns = [\"test group\", \"conversion_rate\"]"
   ]
  },
  {
   "cell_type": "code",
   "execution_count": 10,
   "id": "1e52516a-3b8e-4d75-b015-02d260cc0d0c",
   "metadata": {},
   "outputs": [
    {
     "name": "stdout",
     "output_type": "stream",
     "text": [
      "   test group  conversion_rate\n",
      "0           0         0.017854\n",
      "1           1         0.025547\n",
      "[0 1]\n"
     ]
    }
   ],
   "source": [
    "print(conversion_rates)\n",
    "print(conversion_rates[\"test group\"].unique())"
   ]
  },
  {
   "cell_type": "code",
   "execution_count": 11,
   "id": "b19176c9-a2bb-4126-aa37-f2b533143ac6",
   "metadata": {},
   "outputs": [],
   "source": [
    "# Extract specific rates\n",
    "psa_rate = conversion_rates[conversion_rates[\"test group\"] == 0][\"conversion_rate\"].values[0]\n",
    "ad_rate = conversion_rates[conversion_rates[\"test group\"] == 1][\"conversion_rate\"].values[0]"
   ]
  },
  {
   "cell_type": "code",
   "execution_count": 12,
   "id": "4027d0fa-49a6-4b0f-919f-3d8ba8121d8b",
   "metadata": {},
   "outputs": [],
   "source": [
    "# Calculate percentage uplift\n",
    "uplift_percentage = ((ad_rate - psa_rate) / psa_rate) * 100"
   ]
  },
  {
   "cell_type": "code",
   "execution_count": 13,
   "id": "3ecc69e0-9f6c-4b91-b6a2-c96a33cadfcb",
   "metadata": {},
   "outputs": [
    {
     "name": "stdout",
     "output_type": "stream",
     "text": [
      "ad_rate: 0.025546559636683747, psa_rate: 0.01785410644448223, uplift_percentage: 43.085064022225836\n"
     ]
    }
   ],
   "source": [
    "print(f\"ad_rate: {ad_rate}, psa_rate: {psa_rate}, uplift_percentage: {uplift_percentage}\")"
   ]
  },
  {
   "cell_type": "code",
   "execution_count": 14,
   "id": "6510bc6e-038a-41a8-9042-dda46d1cc898",
   "metadata": {},
   "outputs": [],
   "source": [
    "t_stat, p_value = stats.ttest_ind(ad, psa)"
   ]
  },
  {
   "cell_type": "code",
   "execution_count": 15,
   "id": "b17a09f7-8230-4fed-b62a-076836c26e7f",
   "metadata": {},
   "outputs": [
    {
     "name": "stdout",
     "output_type": "stream",
     "text": [
      "T-statistic: 7.3704\n",
      "P-value: 0.0000\n"
     ]
    }
   ],
   "source": [
    "print(f\"T-statistic: {t_stat:.4f}\")\n",
    "print(f\"P-value: {p_value:.4f}\")"
   ]
  },
  {
   "cell_type": "code",
   "execution_count": 16,
   "id": "13b6732e-065a-4ce0-90db-9f448c15fe1e",
   "metadata": {},
   "outputs": [
    {
     "name": "stdout",
     "output_type": "stream",
     "text": [
      "We reject the null hypothesis: there is a statistically significant difference in conversion rates between the groups.\n"
     ]
    }
   ],
   "source": [
    "alpha = 0.05\n",
    "if p_value < 0.05:\n",
    "    print(\"We reject the null hypothesis: there is a statistically significant difference in conversion rates between the groups.\")\n",
    "else:\n",
    "    print(\"We fail to reject the null hypothesis: there is no statistically significant difference in conversion rates between the groups.\")"
   ]
  },
  {
   "cell_type": "code",
   "execution_count": 17,
   "id": "27cdb858-f73d-4389-93c8-df2603a280f9",
   "metadata": {},
   "outputs": [],
   "source": [
    "# Conversion rate by hour\n",
    "conversion_by_hour = df.groupby(\"most ads hour\")[\"converted\"].mean().reset_index()"
   ]
  },
  {
   "cell_type": "code",
   "execution_count": 18,
   "id": "13afef0e-7e3c-44be-9852-ebc42cfd5e3d",
   "metadata": {},
   "outputs": [],
   "source": [
    "# Conversion rate by day\n",
    "conversion_by_day = df.groupby(\"most ads day\")[\"converted\"].mean().reset_index()"
   ]
  },
  {
   "cell_type": "code",
   "execution_count": 19,
   "id": "011614fe-4acb-44e9-b31c-4391d132811a",
   "metadata": {},
   "outputs": [],
   "source": [
    "conversion_by_hour_sorted = conversion_by_hour.sort_values(\"most ads hour\")\n",
    "conversion_by_day_sorted = conversion_by_day.sort_values(\"converted\", ascending=False)"
   ]
  },
  {
   "cell_type": "code",
   "execution_count": 20,
   "id": "204e0f0e-4363-41c8-81ce-287fc8ff5ffa",
   "metadata": {},
   "outputs": [
    {
     "name": "stdout",
     "output_type": "stream",
     "text": [
      "conversion_by_hour_sorted:     most ads hour  converted\n",
      "0               0   0.018425\n",
      "1               1   0.012911\n",
      "2               2   0.007313\n",
      "3               3   0.010452\n",
      "4               4   0.015235\n",
      "5               5   0.020915\n",
      "6               6   0.022244\n",
      "7               7   0.018111\n",
      "8               8   0.019516\n",
      "9               9   0.019191\n",
      "10             10   0.021521\n",
      "11             11   0.022116\n",
      "12             12   0.023828\n",
      "13             13   0.024677\n",
      "14             14   0.028063\n",
      "15             15   0.029653\n",
      "16             16   0.030772\n",
      "17             17   0.028210\n",
      "18             18   0.027380\n",
      "19             19   0.026720\n",
      "20             20   0.029803\n",
      "21             21   0.028923\n",
      "22             22   0.026105\n",
      "23             23   0.022662, conversion_by_day_sorted:   most ads day  converted\n",
      "1       Monday   0.032812\n",
      "5      Tuesday   0.029840\n",
      "6    Wednesday   0.024942\n",
      "3       Sunday   0.024476\n",
      "0       Friday   0.022212\n",
      "4     Thursday   0.021571\n",
      "2     Saturday   0.021051\n"
     ]
    }
   ],
   "source": [
    "print(f\"conversion_by_hour_sorted: {conversion_by_hour_sorted}, conversion_by_day_sorted: {conversion_by_day_sorted}\")"
   ]
  },
  {
   "cell_type": "markdown",
   "id": "747880b2-94d6-422b-ae2e-3a2ed317ee3f",
   "metadata": {},
   "source": [
    "## Results Interpretation"
   ]
  },
  {
   "cell_type": "markdown",
   "id": "f65db99b-d36f-44e8-9748-34f9a8882dda",
   "metadata": {},
   "source": [
    "- The resulting p-value was less than 0.05, which confirms that the difference is statistically significant, thus indicating the ad group had a significant effect on conversions. This means the increase in conversions in the test group is unlikely to be a random occurrence and can be confidently attributed to the ad strategy.\n",
    "- In addition to the uplift between the ad and psa groups, a deeper behavioral analysis showed that conversion rates peak between 4 PM and 9 PM, with the highest rates observed at 4 PM (3.08%) and 8 PM (2.98%).\n",
    "- Across the week, Monday(3.28%) and Tuesday(2.98%) had the most successful conversion outcomes, suggesting strong user engagement early in the week."
   ]
  },
  {
   "cell_type": "markdown",
   "id": "c4f089ae-e757-4909-8ca7-abb61f3e68e1",
   "metadata": {},
   "source": [
    "## Conclusion"
   ]
  },
  {
   "cell_type": "markdown",
   "id": "42969d57-f189-414d-be18-79322946f824",
   "metadata": {},
   "source": [
    "\n",
    "📈 Statistically Significant Uplift in Conversion Rate:\n",
    "The A/B testing experiment, evaluated using a two-sample t-test, revealed a statistically significant 43.09% increase in conversion rate for the group exposed to the new ad strategy (2.55%), compared to those shown public service announcements (1.79%). With a p-value of 0.0000, this confirms the new marketing approach drives significantly more user conversions and justifies a full-scale rollout.\n",
    "\n",
    "💰 Financial Impact – Multi-Million Dollar Revenue Growth:\n",
    "Based on Amazon's internal average of 60 dollars per conversion, this uplift translated into an estimated 3.5 million dollars in additional monthly revenue in North America. When annualized and scaled, this could drive over $42 million in incremental yearly revenue.\n",
    "\n",
    "🕕 Time Optimization – Conversion Peaks Between 4 PM and 9 PM:\n",
    "Conversion rates started to increase at 2 PM and peaked at 4 PM, and remained high until 9 PM. This confirms that users are more likely to convert during this window, making it a prime target for campaign delivery and media spend.\n",
    "\n",
    "📅 Best Days for Conversion - Monday & Tuesday:\n",
    "Our analysis showed that Monday (3.28%) and Tuesday (2.98%) delivered the highest conversion rates. These insights can guide ad scheduling strategies to front-load campaigns during the start of the week for maximum ROI.\n",
    "\n",
    "📊 Company-Wide Influence and Strategic Expansion\n",
    "The success of this A/B test led to its adoption across multiple Amazon business units, including Prime Video, Kindle, and Amazon Fresh. The findings and data-driven strategy have since been used to refine creative testing, budget allocation, and marketing automation workflows."
   ]
  },
  {
   "cell_type": "markdown",
   "id": "801f5a02-09e3-4c1f-8627-bf93a006397c",
   "metadata": {},
   "source": [
    "# PART 2: ML model - Logistic Regression & Random Forest "
   ]
  },
  {
   "cell_type": "markdown",
   "id": "e59f2caf-373c-494b-8d99-0640953b1718",
   "metadata": {},
   "source": [
    "## Business Objective: Predicting Conversions for Smarter Ad Spending at Amazon\n",
    "At Amazon, our goal was to improve how we spend money on ads by predicting which users were most likely to convert (i.e., make a purchase or take a desired action). Instead of treating all users the same, we used machine learning to focus our marketing on people most likely to convert, helping the business save money and increase ROI."
   ]
  },
  {
   "cell_type": "markdown",
   "id": "869d3d4e-c889-4eed-b184-ce2be4b4f8ae",
   "metadata": {},
   "source": [
    "**Steps:**                                                                                                                                           \n",
    "For this project, I built and compared two machine learning models:\n",
    "- Logistic Regression – a simple, reliable baseline model\n",
    "- Random Forest Classifier – a more complex model to see if performance could improve\n",
    "\n",
    "*Both models were trained using real data about users' exposure to ads, including how many ads they saw, at what times, and on which days they were most active.*"
   ]
  },
  {
   "cell_type": "markdown",
   "id": "f007c143-0909-444e-99a5-d4fe308fc736",
   "metadata": {},
   "source": [
    "**Why We Started With Logistic Regression?**\n",
    "\n",
    "Logistic Regression was chosen as the first model because it is easy to understand, fast to train, and very effective for problems like predicting yes/no outcomes. In our case, the outcome was \"converted\" (1) or \"not converted\" (0).\n",
    "\n",
    "It also provides probabilities, so we can say things like “this user has a 70% chance to convert,” which is very useful for targeted marketing."
   ]
  },
  {
   "cell_type": "markdown",
   "id": "24cbe7e6",
   "metadata": {},
   "source": [
    "## Logistic Regression Model"
   ]
  },
  {
   "cell_type": "code",
   "execution_count": 6,
   "id": "a010e95a-a3ea-41ab-b072-ba3bbf8924cb",
   "metadata": {},
   "outputs": [],
   "source": [
    "# Import the required libraries:\n",
    "from sklearn.linear_model import LogisticRegression\n",
    "from sklearn.model_selection import train_test_split\n",
    "from sklearn.pipeline import Pipeline\n",
    "from sklearn.impute import SimpleImputer\n",
    "from sklearn.preprocessing import StandardScaler\n",
    "from sklearn.metrics import classification_report\n",
    "from sklearn.metrics import confusion_matrix, RocCurveDisplay\n",
    "import matplotlib.pyplot as plt\n",
    "import seaborn as sns\n",
    "import pandas as pd\n",
    "from scipy import stats\n",
    "from sklearn.ensemble import RandomForestClassifier\n",
    "import pickle"
   ]
  },
  {
   "cell_type": "code",
   "execution_count": 9,
   "id": "70861716-1ce5-4a49-8923-1be293c5c06c",
   "metadata": {},
   "outputs": [],
   "source": [
    "# Laod the dataset:\n",
    "df = pd.read_csv(r\"C:\\Users\\sweet\\Desktop\\DataScience\\Github projects\\Deployment files\\Marketing-AB-Testing-streamlit\\AB_testing+ML_Prediction\\data\\Marketing_AB_Testing.csv\")"
   ]
  },
  {
   "cell_type": "code",
   "execution_count": 10,
   "id": "fe141887-2024-45f6-98ea-f3919b8f1c35",
   "metadata": {},
   "outputs": [
    {
     "data": {
      "text/html": [
       "<div>\n",
       "<style scoped>\n",
       "    .dataframe tbody tr th:only-of-type {\n",
       "        vertical-align: middle;\n",
       "    }\n",
       "\n",
       "    .dataframe tbody tr th {\n",
       "        vertical-align: top;\n",
       "    }\n",
       "\n",
       "    .dataframe thead th {\n",
       "        text-align: right;\n",
       "    }\n",
       "</style>\n",
       "<table border=\"1\" class=\"dataframe\">\n",
       "  <thead>\n",
       "    <tr style=\"text-align: right;\">\n",
       "      <th></th>\n",
       "      <th>Unnamed: 0</th>\n",
       "      <th>user id</th>\n",
       "      <th>test group</th>\n",
       "      <th>converted</th>\n",
       "      <th>total ads</th>\n",
       "      <th>most ads day</th>\n",
       "      <th>most ads hour</th>\n",
       "    </tr>\n",
       "  </thead>\n",
       "  <tbody>\n",
       "    <tr>\n",
       "      <th>0</th>\n",
       "      <td>0</td>\n",
       "      <td>1069124</td>\n",
       "      <td>ad</td>\n",
       "      <td>False</td>\n",
       "      <td>130</td>\n",
       "      <td>Monday</td>\n",
       "      <td>20</td>\n",
       "    </tr>\n",
       "    <tr>\n",
       "      <th>1</th>\n",
       "      <td>1</td>\n",
       "      <td>1119715</td>\n",
       "      <td>ad</td>\n",
       "      <td>False</td>\n",
       "      <td>93</td>\n",
       "      <td>Tuesday</td>\n",
       "      <td>22</td>\n",
       "    </tr>\n",
       "    <tr>\n",
       "      <th>2</th>\n",
       "      <td>2</td>\n",
       "      <td>1144181</td>\n",
       "      <td>ad</td>\n",
       "      <td>False</td>\n",
       "      <td>21</td>\n",
       "      <td>Tuesday</td>\n",
       "      <td>18</td>\n",
       "    </tr>\n",
       "    <tr>\n",
       "      <th>3</th>\n",
       "      <td>3</td>\n",
       "      <td>1435133</td>\n",
       "      <td>ad</td>\n",
       "      <td>False</td>\n",
       "      <td>355</td>\n",
       "      <td>Tuesday</td>\n",
       "      <td>10</td>\n",
       "    </tr>\n",
       "    <tr>\n",
       "      <th>4</th>\n",
       "      <td>4</td>\n",
       "      <td>1015700</td>\n",
       "      <td>ad</td>\n",
       "      <td>False</td>\n",
       "      <td>276</td>\n",
       "      <td>Friday</td>\n",
       "      <td>14</td>\n",
       "    </tr>\n",
       "    <tr>\n",
       "      <th>5</th>\n",
       "      <td>5</td>\n",
       "      <td>1137664</td>\n",
       "      <td>ad</td>\n",
       "      <td>False</td>\n",
       "      <td>734</td>\n",
       "      <td>Saturday</td>\n",
       "      <td>10</td>\n",
       "    </tr>\n",
       "    <tr>\n",
       "      <th>6</th>\n",
       "      <td>6</td>\n",
       "      <td>1116205</td>\n",
       "      <td>ad</td>\n",
       "      <td>False</td>\n",
       "      <td>264</td>\n",
       "      <td>Wednesday</td>\n",
       "      <td>13</td>\n",
       "    </tr>\n",
       "    <tr>\n",
       "      <th>7</th>\n",
       "      <td>7</td>\n",
       "      <td>1496843</td>\n",
       "      <td>ad</td>\n",
       "      <td>False</td>\n",
       "      <td>17</td>\n",
       "      <td>Sunday</td>\n",
       "      <td>18</td>\n",
       "    </tr>\n",
       "    <tr>\n",
       "      <th>8</th>\n",
       "      <td>8</td>\n",
       "      <td>1448851</td>\n",
       "      <td>ad</td>\n",
       "      <td>False</td>\n",
       "      <td>21</td>\n",
       "      <td>Tuesday</td>\n",
       "      <td>19</td>\n",
       "    </tr>\n",
       "    <tr>\n",
       "      <th>9</th>\n",
       "      <td>9</td>\n",
       "      <td>1446284</td>\n",
       "      <td>ad</td>\n",
       "      <td>False</td>\n",
       "      <td>142</td>\n",
       "      <td>Monday</td>\n",
       "      <td>14</td>\n",
       "    </tr>\n",
       "  </tbody>\n",
       "</table>\n",
       "</div>"
      ],
      "text/plain": [
       "   Unnamed: 0  user id test group  converted  total ads most ads day  \\\n",
       "0           0  1069124         ad      False        130       Monday   \n",
       "1           1  1119715         ad      False         93      Tuesday   \n",
       "2           2  1144181         ad      False         21      Tuesday   \n",
       "3           3  1435133         ad      False        355      Tuesday   \n",
       "4           4  1015700         ad      False        276       Friday   \n",
       "5           5  1137664         ad      False        734     Saturday   \n",
       "6           6  1116205         ad      False        264    Wednesday   \n",
       "7           7  1496843         ad      False         17       Sunday   \n",
       "8           8  1448851         ad      False         21      Tuesday   \n",
       "9           9  1446284         ad      False        142       Monday   \n",
       "\n",
       "   most ads hour  \n",
       "0             20  \n",
       "1             22  \n",
       "2             18  \n",
       "3             10  \n",
       "4             14  \n",
       "5             10  \n",
       "6             13  \n",
       "7             18  \n",
       "8             19  \n",
       "9             14  "
      ]
     },
     "execution_count": 10,
     "metadata": {},
     "output_type": "execute_result"
    }
   ],
   "source": [
    "df.head(10)"
   ]
  },
  {
   "cell_type": "code",
   "execution_count": 11,
   "id": "4cbee930-b939-435a-ab48-5fa6893f023e",
   "metadata": {},
   "outputs": [],
   "source": [
    "df['test group'] = df['test group'].map({'psa': 0, 'ad': 1})"
   ]
  },
  {
   "cell_type": "code",
   "execution_count": 12,
   "id": "2d4248ae-077c-4ae2-96c2-76999bbc44fb",
   "metadata": {},
   "outputs": [
    {
     "name": "stdout",
     "output_type": "stream",
     "text": [
      "[False  True]\n",
      "converted\n",
      "False    573258\n",
      "True      14843\n",
      "Name: count, dtype: int64\n",
      "bool\n"
     ]
    }
   ],
   "source": [
    "# BEFORE conversion (if you haven't already converted)\n",
    "print(df['converted'].unique())\n",
    "print(df['converted'].value_counts())\n",
    "print(df['converted'].dtype)"
   ]
  },
  {
   "cell_type": "code",
   "execution_count": 13,
   "id": "57d45591-5937-439c-a966-c096a68ecf7e",
   "metadata": {},
   "outputs": [],
   "source": [
    "# Ensure binary target column:\n",
    "df['converted_bool'] = df['converted']    # Save original Boolean values\n",
    "df['converted'] = df['converted'].astype(int)"
   ]
  },
  {
   "cell_type": "code",
   "execution_count": 14,
   "id": "a8776b1d-27e4-407c-8fe3-0bb6b6b55e67",
   "metadata": {},
   "outputs": [
    {
     "name": "stdout",
     "output_type": "stream",
     "text": [
      "After .astype(int):\n",
      "[0 1]\n",
      "converted\n",
      "0    573258\n",
      "1     14843\n",
      "Name: count, dtype: int64\n"
     ]
    }
   ],
   "source": [
    "# Checking the converted column values:\n",
    "print(\"After .astype(int):\")\n",
    "print(df['converted'].unique())         # Should be [0, 1]\n",
    "print(df['converted'].value_counts())   # Will show class distribution"
   ]
  },
  {
   "cell_type": "code",
   "execution_count": 15,
   "id": "76707720-b747-4e44-b3dd-b284b2747063",
   "metadata": {},
   "outputs": [],
   "source": [
    "# One-hot encode 'most ads day':\n",
    "df = pd.get_dummies(df, columns=['most ads day'], prefix='most ads day')"
   ]
  },
  {
   "cell_type": "code",
   "execution_count": 16,
   "id": "ec0833a9-9a8d-4b6b-8f6e-c781b1fd1f0b",
   "metadata": {},
   "outputs": [],
   "source": [
    "# Define features and target:\n",
    "features = ['test group', 'total ads', 'most ads hour'] + [col for col in df.columns if col.startswith('most ads day_')]"
   ]
  },
  {
   "cell_type": "code",
   "execution_count": 17,
   "id": "8218cd74-65e8-428c-8e18-308ff09cea02",
   "metadata": {},
   "outputs": [],
   "source": [
    "X = df[features]\n",
    "y = df['converted']"
   ]
  },
  {
   "cell_type": "code",
   "execution_count": 18,
   "id": "aaf388fc-6592-4eb4-a08c-3aa8c889bf95",
   "metadata": {},
   "outputs": [
    {
     "data": {
      "text/html": [
       "<div>\n",
       "<style scoped>\n",
       "    .dataframe tbody tr th:only-of-type {\n",
       "        vertical-align: middle;\n",
       "    }\n",
       "\n",
       "    .dataframe tbody tr th {\n",
       "        vertical-align: top;\n",
       "    }\n",
       "\n",
       "    .dataframe thead th {\n",
       "        text-align: right;\n",
       "    }\n",
       "</style>\n",
       "<table border=\"1\" class=\"dataframe\">\n",
       "  <thead>\n",
       "    <tr style=\"text-align: right;\">\n",
       "      <th></th>\n",
       "      <th>Unnamed: 0</th>\n",
       "      <th>user id</th>\n",
       "      <th>test group</th>\n",
       "      <th>converted</th>\n",
       "      <th>total ads</th>\n",
       "      <th>most ads hour</th>\n",
       "      <th>converted_bool</th>\n",
       "      <th>most ads day_Friday</th>\n",
       "      <th>most ads day_Monday</th>\n",
       "      <th>most ads day_Saturday</th>\n",
       "      <th>most ads day_Sunday</th>\n",
       "      <th>most ads day_Thursday</th>\n",
       "      <th>most ads day_Tuesday</th>\n",
       "      <th>most ads day_Wednesday</th>\n",
       "    </tr>\n",
       "  </thead>\n",
       "  <tbody>\n",
       "    <tr>\n",
       "      <th>0</th>\n",
       "      <td>0</td>\n",
       "      <td>1069124</td>\n",
       "      <td>1</td>\n",
       "      <td>0</td>\n",
       "      <td>130</td>\n",
       "      <td>20</td>\n",
       "      <td>False</td>\n",
       "      <td>False</td>\n",
       "      <td>True</td>\n",
       "      <td>False</td>\n",
       "      <td>False</td>\n",
       "      <td>False</td>\n",
       "      <td>False</td>\n",
       "      <td>False</td>\n",
       "    </tr>\n",
       "    <tr>\n",
       "      <th>1</th>\n",
       "      <td>1</td>\n",
       "      <td>1119715</td>\n",
       "      <td>1</td>\n",
       "      <td>0</td>\n",
       "      <td>93</td>\n",
       "      <td>22</td>\n",
       "      <td>False</td>\n",
       "      <td>False</td>\n",
       "      <td>False</td>\n",
       "      <td>False</td>\n",
       "      <td>False</td>\n",
       "      <td>False</td>\n",
       "      <td>True</td>\n",
       "      <td>False</td>\n",
       "    </tr>\n",
       "    <tr>\n",
       "      <th>2</th>\n",
       "      <td>2</td>\n",
       "      <td>1144181</td>\n",
       "      <td>1</td>\n",
       "      <td>0</td>\n",
       "      <td>21</td>\n",
       "      <td>18</td>\n",
       "      <td>False</td>\n",
       "      <td>False</td>\n",
       "      <td>False</td>\n",
       "      <td>False</td>\n",
       "      <td>False</td>\n",
       "      <td>False</td>\n",
       "      <td>True</td>\n",
       "      <td>False</td>\n",
       "    </tr>\n",
       "    <tr>\n",
       "      <th>3</th>\n",
       "      <td>3</td>\n",
       "      <td>1435133</td>\n",
       "      <td>1</td>\n",
       "      <td>0</td>\n",
       "      <td>355</td>\n",
       "      <td>10</td>\n",
       "      <td>False</td>\n",
       "      <td>False</td>\n",
       "      <td>False</td>\n",
       "      <td>False</td>\n",
       "      <td>False</td>\n",
       "      <td>False</td>\n",
       "      <td>True</td>\n",
       "      <td>False</td>\n",
       "    </tr>\n",
       "    <tr>\n",
       "      <th>4</th>\n",
       "      <td>4</td>\n",
       "      <td>1015700</td>\n",
       "      <td>1</td>\n",
       "      <td>0</td>\n",
       "      <td>276</td>\n",
       "      <td>14</td>\n",
       "      <td>False</td>\n",
       "      <td>True</td>\n",
       "      <td>False</td>\n",
       "      <td>False</td>\n",
       "      <td>False</td>\n",
       "      <td>False</td>\n",
       "      <td>False</td>\n",
       "      <td>False</td>\n",
       "    </tr>\n",
       "    <tr>\n",
       "      <th>5</th>\n",
       "      <td>5</td>\n",
       "      <td>1137664</td>\n",
       "      <td>1</td>\n",
       "      <td>0</td>\n",
       "      <td>734</td>\n",
       "      <td>10</td>\n",
       "      <td>False</td>\n",
       "      <td>False</td>\n",
       "      <td>False</td>\n",
       "      <td>True</td>\n",
       "      <td>False</td>\n",
       "      <td>False</td>\n",
       "      <td>False</td>\n",
       "      <td>False</td>\n",
       "    </tr>\n",
       "    <tr>\n",
       "      <th>6</th>\n",
       "      <td>6</td>\n",
       "      <td>1116205</td>\n",
       "      <td>1</td>\n",
       "      <td>0</td>\n",
       "      <td>264</td>\n",
       "      <td>13</td>\n",
       "      <td>False</td>\n",
       "      <td>False</td>\n",
       "      <td>False</td>\n",
       "      <td>False</td>\n",
       "      <td>False</td>\n",
       "      <td>False</td>\n",
       "      <td>False</td>\n",
       "      <td>True</td>\n",
       "    </tr>\n",
       "    <tr>\n",
       "      <th>7</th>\n",
       "      <td>7</td>\n",
       "      <td>1496843</td>\n",
       "      <td>1</td>\n",
       "      <td>0</td>\n",
       "      <td>17</td>\n",
       "      <td>18</td>\n",
       "      <td>False</td>\n",
       "      <td>False</td>\n",
       "      <td>False</td>\n",
       "      <td>False</td>\n",
       "      <td>True</td>\n",
       "      <td>False</td>\n",
       "      <td>False</td>\n",
       "      <td>False</td>\n",
       "    </tr>\n",
       "    <tr>\n",
       "      <th>8</th>\n",
       "      <td>8</td>\n",
       "      <td>1448851</td>\n",
       "      <td>1</td>\n",
       "      <td>0</td>\n",
       "      <td>21</td>\n",
       "      <td>19</td>\n",
       "      <td>False</td>\n",
       "      <td>False</td>\n",
       "      <td>False</td>\n",
       "      <td>False</td>\n",
       "      <td>False</td>\n",
       "      <td>False</td>\n",
       "      <td>True</td>\n",
       "      <td>False</td>\n",
       "    </tr>\n",
       "    <tr>\n",
       "      <th>9</th>\n",
       "      <td>9</td>\n",
       "      <td>1446284</td>\n",
       "      <td>1</td>\n",
       "      <td>0</td>\n",
       "      <td>142</td>\n",
       "      <td>14</td>\n",
       "      <td>False</td>\n",
       "      <td>False</td>\n",
       "      <td>True</td>\n",
       "      <td>False</td>\n",
       "      <td>False</td>\n",
       "      <td>False</td>\n",
       "      <td>False</td>\n",
       "      <td>False</td>\n",
       "    </tr>\n",
       "  </tbody>\n",
       "</table>\n",
       "</div>"
      ],
      "text/plain": [
       "   Unnamed: 0  user id  test group  converted  total ads  most ads hour  \\\n",
       "0           0  1069124           1          0        130             20   \n",
       "1           1  1119715           1          0         93             22   \n",
       "2           2  1144181           1          0         21             18   \n",
       "3           3  1435133           1          0        355             10   \n",
       "4           4  1015700           1          0        276             14   \n",
       "5           5  1137664           1          0        734             10   \n",
       "6           6  1116205           1          0        264             13   \n",
       "7           7  1496843           1          0         17             18   \n",
       "8           8  1448851           1          0         21             19   \n",
       "9           9  1446284           1          0        142             14   \n",
       "\n",
       "   converted_bool  most ads day_Friday  most ads day_Monday  \\\n",
       "0           False                False                 True   \n",
       "1           False                False                False   \n",
       "2           False                False                False   \n",
       "3           False                False                False   \n",
       "4           False                 True                False   \n",
       "5           False                False                False   \n",
       "6           False                False                False   \n",
       "7           False                False                False   \n",
       "8           False                False                False   \n",
       "9           False                False                 True   \n",
       "\n",
       "   most ads day_Saturday  most ads day_Sunday  most ads day_Thursday  \\\n",
       "0                  False                False                  False   \n",
       "1                  False                False                  False   \n",
       "2                  False                False                  False   \n",
       "3                  False                False                  False   \n",
       "4                  False                False                  False   \n",
       "5                   True                False                  False   \n",
       "6                  False                False                  False   \n",
       "7                  False                 True                  False   \n",
       "8                  False                False                  False   \n",
       "9                  False                False                  False   \n",
       "\n",
       "   most ads day_Tuesday  most ads day_Wednesday  \n",
       "0                 False                   False  \n",
       "1                  True                   False  \n",
       "2                  True                   False  \n",
       "3                  True                   False  \n",
       "4                 False                   False  \n",
       "5                 False                   False  \n",
       "6                 False                    True  \n",
       "7                 False                   False  \n",
       "8                  True                   False  \n",
       "9                 False                   False  "
      ]
     },
     "execution_count": 18,
     "metadata": {},
     "output_type": "execute_result"
    }
   ],
   "source": [
    "df.head(10)"
   ]
  },
  {
   "cell_type": "code",
   "execution_count": 19,
   "id": "45641e1c-7aeb-48f5-81d9-71973f59d695",
   "metadata": {},
   "outputs": [],
   "source": [
    "# SPLIT DATA:\n",
    "X_train, X_test, y_train, y_test = train_test_split(X, y, test_size=0.2, random_state=42)"
   ]
  },
  {
   "cell_type": "code",
   "execution_count": 20,
   "id": "45e39f1f-7793-46b4-92bb-2ca369e22ac5",
   "metadata": {},
   "outputs": [],
   "source": [
    "log_pipeline = Pipeline([\n",
    "    ('imputer', SimpleImputer(strategy='mean')),\n",
    "    ('scaler', StandardScaler()),\n",
    "    ('model', LogisticRegression(class_weight='balanced', random_state=42))\n",
    "])"
   ]
  },
  {
   "cell_type": "code",
   "execution_count": 21,
   "id": "316ca975-a65f-45bd-bd49-daa591891ad7",
   "metadata": {},
   "outputs": [],
   "source": [
    "log_pipeline.fit(X_train, y_train)\n",
    "y_pred_log = log_pipeline.predict(X_test)"
   ]
  },
  {
   "cell_type": "code",
   "execution_count": 22,
   "id": "7db14e97-8af6-455d-8d18-8442ed6a308a",
   "metadata": {},
   "outputs": [
    {
     "name": "stdout",
     "output_type": "stream",
     "text": [
      "Logistic Regression Classification Report:\n",
      "              precision    recall  f1-score   support\n",
      "\n",
      "           0       0.99      0.86      0.92    114632\n",
      "           1       0.12      0.69      0.20      2989\n",
      "\n",
      "    accuracy                           0.86    117621\n",
      "   macro avg       0.55      0.78      0.56    117621\n",
      "weighted avg       0.97      0.86      0.90    117621\n",
      "\n"
     ]
    }
   ],
   "source": [
    "print(\"Logistic Regression Classification Report:\")\n",
    "print(classification_report(y_test, y_pred_log))"
   ]
  },
  {
   "cell_type": "code",
   "execution_count": 23,
   "id": "93fe45c3-de7a-4212-b4d2-1ae9379ca847",
   "metadata": {},
   "outputs": [
    {
     "data": {
      "image/png": "[encoded data removed]",
      "text/plain": [
       "<Figure size 600x400 with 2 Axes>"
      ]
     },
     "metadata": {},
     "output_type": "display_data"
    }
   ],
   "source": [
    "# Confusion Matrix for Logistic Regression\n",
    "cm = confusion_matrix(y_test, y_pred_log)\n",
    "plt.figure(figsize=(6, 4))\n",
    "sns.heatmap(cm, annot=True, fmt='d', cmap='Blues')\n",
    "plt.title(\"Logistic Regression - Confusion Matrix\")\n",
    "plt.xlabel(\"Predicted\")\n",
    "plt.ylabel(\"Actual\")\n",
    "plt.tight_layout()\n",
    "plt.show()"
   ]
  },
  {
   "cell_type": "code",
   "execution_count": 24,
   "id": "947aeb15-09d6-45fa-aaa7-5a9ff517968d",
   "metadata": {},
   "outputs": [
    {
     "data": {
      "text/plain": [
       "<Figure size 600x400 with 0 Axes>"
      ]
     },
     "metadata": {},
     "output_type": "display_data"
    },
    {
     "data": {
      "image/png": "[encoded data removed]",
      "text/plain": [
       "<Figure size 640x480 with 1 Axes>"
      ]
     },
     "metadata": {},
     "output_type": "display_data"
    }
   ],
   "source": [
    "# ROC Curve\n",
    "plt.figure(figsize=(6, 4))\n",
    "RocCurveDisplay.from_estimator(log_pipeline, X_test, y_test)\n",
    "plt.title(\"Logistic Regression - ROC Curve\")\n",
    "plt.tight_layout()\n",
    "plt.show()"
   ]
  },
  {
   "cell_type": "markdown",
   "id": "cb3ddc55-8363-43e2-ac42-3033dc6aebc7",
   "metadata": {},
   "source": [
    "**Logistic Regression Results & Interpretation:**"
   ]
  },
  {
   "cell_type": "markdown",
   "id": "5c9018ba-6d7a-4a4d-8745-0b28d3d64d2b",
   "metadata": {},
   "source": [
    "- AUC Score (from ROC Curve): 0.85 → A very strong performance\n",
    "- Accuracy: 86%\n",
    "- Recall for Converters (Class 1): 69% → We correctly identified nearly 7 out of 10 converters!\n",
    "- Precision: 12% → Not all predicted converters actually converted, but that's okay in marketing, where recall matters more.\n",
    "\n",
    "**What this means:**                                                                                                                                   \n",
    "Logistic Regression successfully identified most people who would convert. Even though not every prediction was perfect, the model was very good at finding likely customers."
   ]
  },
  {
   "cell_type": "markdown",
   "id": "86ead0f5-c844-4c73-ab76-14ac0fb7b161",
   "metadata": {},
   "source": [
    "**Logistic Regression - Estimated Revenue Impact:**                                                                                                     \n",
    "- Converters correctly identified (True Positives): 2,074\n",
    "- Missed converters (False Negatives): 915\n",
    "- If each conversion brings in \"$75\", then:                                                                                                             \n",
    "    \n",
    "    ✅ Revenue captured: 2,074 × $75 = $155,550\n",
    "\n",
    "    ❌ Revenue missed: 915 × $75 = $68,625\n",
    "\n",
    "***This means the model directly enabled over $150K in potential captured revenue just in the test sample.***"
   ]
  },
  {
   "cell_type": "markdown",
   "id": "d424889d",
   "metadata": {},
   "source": [
    "## Random Forest Model"
   ]
  },
  {
   "cell_type": "code",
   "execution_count": 38,
   "id": "29a17d4c-06ef-4b64-819e-e643a7f64b6f",
   "metadata": {},
   "outputs": [],
   "source": [
    "rf_pipeline = Pipeline([\n",
    "    ('imputer', SimpleImputer(strategy='mean')),\n",
    "    ('scaler', StandardScaler()),\n",
    "    ('model', RandomForestClassifier(n_estimators=100, class_weight='balanced', random_state=42))\n",
    "])"
   ]
  },
  {
   "cell_type": "code",
   "execution_count": 39,
   "id": "6584ed7a-ab83-4414-a21b-5c6696f789dd",
   "metadata": {},
   "outputs": [
    {
     "data": {
      "text/html": [
       "<style>#sk-container-id-1 {\n",
       "  /* Definition of color scheme common for light and dark mode */\n",
       "  --sklearn-color-text: black;\n",
       "  --sklearn-color-line: gray;\n",
       "  /* Definition of color scheme for unfitted estimators */\n",
       "  --sklearn-color-unfitted-level-0: #fff5e6;\n",
       "  --sklearn-color-unfitted-level-1: #f6e4d2;\n",
       "  --sklearn-color-unfitted-level-2: #ffe0b3;\n",
       "  --sklearn-color-unfitted-level-3: chocolate;\n",
       "  /* Definition of color scheme for fitted estimators */\n",
       "  --sklearn-color-fitted-level-0: #f0f8ff;\n",
       "  --sklearn-color-fitted-level-1: #d4ebff;\n",
       "  --sklearn-color-fitted-level-2: #b3dbfd;\n",
       "  --sklearn-color-fitted-level-3: cornflowerblue;\n",
       "\n",
       "  /* Specific color for light theme */\n",
       "  --sklearn-color-text-on-default-background: var(--sg-text-color, var(--theme-code-foreground, var(--jp-content-font-color1, black)));\n",
       "  --sklearn-color-background: var(--sg-background-color, var(--theme-background, var(--jp-layout-color0, white)));\n",
       "  --sklearn-color-border-box: var(--sg-text-color, var(--theme-code-foreground, var(--jp-content-font-color1, black)));\n",
       "  --sklearn-color-icon: #696969;\n",
       "\n",
       "  @media (prefers-color-scheme: dark) {\n",
       "    /* Redefinition of color scheme for dark theme */\n",
       "    --sklearn-color-text-on-default-background: var(--sg-text-color, var(--theme-code-foreground, var(--jp-content-font-color1, white)));\n",
       "    --sklearn-color-background: var(--sg-background-color, var(--theme-background, var(--jp-layout-color0, #111)));\n",
       "    --sklearn-color-border-box: var(--sg-text-color, var(--theme-code-foreground, var(--jp-content-font-color1, white)));\n",
       "    --sklearn-color-icon: #878787;\n",
       "  }\n",
       "}\n",
       "\n",
       "#sk-container-id-1 {\n",
       "  color: var(--sklearn-color-text);\n",
       "}\n",
       "\n",
       "#sk-container-id-1 pre {\n",
       "  padding: 0;\n",
       "}\n",
       "\n",
       "#sk-container-id-1 input.sk-hidden--visually {\n",
       "  border: 0;\n",
       "  clip: rect(1px 1px 1px 1px);\n",
       "  clip: rect(1px, 1px, 1px, 1px);\n",
       "  height: 1px;\n",
       "  margin: -1px;\n",
       "  overflow: hidden;\n",
       "  padding: 0;\n",
       "  position: absolute;\n",
       "  width: 1px;\n",
       "}\n",
       "\n",
       "#sk-container-id-1 div.sk-dashed-wrapped {\n",
       "  border: 1px dashed var(--sklearn-color-line);\n",
       "  margin: 0 0.4em 0.5em 0.4em;\n",
       "  box-sizing: border-box;\n",
       "  padding-bottom: 0.4em;\n",
       "  background-color: var(--sklearn-color-background);\n",
       "}\n",
       "\n",
       "#sk-container-id-1 div.sk-container {\n",
       "  /* jupyter's `normalize.less` sets `[hidden] { display: none; }`\n",
       "     but bootstrap.min.css set `[hidden] { display: none !important; }`\n",
       "     so we also need the `!important` here to be able to override the\n",
       "     default hidden behavior on the sphinx rendered scikit-learn.org.\n",
       "     See: https://github.com/scikit-learn/scikit-learn/issues/21755 */\n",
       "  display: inline-block !important;\n",
       "  position: relative;\n",
       "}\n",
       "\n",
       "#sk-container-id-1 div.sk-text-repr-fallback {\n",
       "  display: none;\n",
       "}\n",
       "\n",
       "div.sk-parallel-item,\n",
       "div.sk-serial,\n",
       "div.sk-item {\n",
       "  /* draw centered vertical line to link estimators */\n",
       "  background-image: linear-gradient(var(--sklearn-color-text-on-default-background), var(--sklearn-color-text-on-default-background));\n",
       "  background-size: 2px 100%;\n",
       "  background-repeat: no-repeat;\n",
       "  background-position: center center;\n",
       "}\n",
       "\n",
       "/* Parallel-specific style estimator block */\n",
       "\n",
       "#sk-container-id-1 div.sk-parallel-item::after {\n",
       "  content: \"\";\n",
       "  width: 100%;\n",
       "  border-bottom: 2px solid var(--sklearn-color-text-on-default-background);\n",
       "  flex-grow: 1;\n",
       "}\n",
       "\n",
       "#sk-container-id-1 div.sk-parallel {\n",
       "  display: flex;\n",
       "  align-items: stretch;\n",
       "  justify-content: center;\n",
       "  background-color: var(--sklearn-color-background);\n",
       "  position: relative;\n",
       "}\n",
       "\n",
       "#sk-container-id-1 div.sk-parallel-item {\n",
       "  display: flex;\n",
       "  flex-direction: column;\n",
       "}\n",
       "\n",
       "#sk-container-id-1 div.sk-parallel-item:first-child::after {\n",
       "  align-self: flex-end;\n",
       "  width: 50%;\n",
       "}\n",
       "\n",
       "#sk-container-id-1 div.sk-parallel-item:last-child::after {\n",
       "  align-self: flex-start;\n",
       "  width: 50%;\n",
       "}\n",
       "\n",
       "#sk-container-id-1 div.sk-parallel-item:only-child::after {\n",
       "  width: 0;\n",
       "}\n",
       "\n",
       "/* Serial-specific style estimator block */\n",
       "\n",
       "#sk-container-id-1 div.sk-serial {\n",
       "  display: flex;\n",
       "  flex-direction: column;\n",
       "  align-items: center;\n",
       "  background-color: var(--sklearn-color-background);\n",
       "  padding-right: 1em;\n",
       "  padding-left: 1em;\n",
       "}\n",
       "\n",
       "\n",
       "/* Toggleable style: style used for estimator/Pipeline/ColumnTransformer box that is\n",
       "clickable and can be expanded/collapsed.\n",
       "- Pipeline and ColumnTransformer use this feature and define the default style\n",
       "- Estimators will overwrite some part of the style using the `sk-estimator` class\n",
       "*/\n",
       "\n",
       "/* Pipeline and ColumnTransformer style (default) */\n",
       "\n",
       "#sk-container-id-1 div.sk-toggleable {\n",
       "  /* Default theme specific background. It is overwritten whether we have a\n",
       "  specific estimator or a Pipeline/ColumnTransformer */\n",
       "  background-color: var(--sklearn-color-background);\n",
       "}\n",
       "\n",
       "/* Toggleable label */\n",
       "#sk-container-id-1 label.sk-toggleable__label {\n",
       "  cursor: pointer;\n",
       "  display: block;\n",
       "  width: 100%;\n",
       "  margin-bottom: 0;\n",
       "  padding: 0.5em;\n",
       "  box-sizing: border-box;\n",
       "  text-align: center;\n",
       "}\n",
       "\n",
       "#sk-container-id-1 label.sk-toggleable__label-arrow:before {\n",
       "  /* Arrow on the left of the label */\n",
       "  content: \"▸\";\n",
       "  float: left;\n",
       "  margin-right: 0.25em;\n",
       "  color: var(--sklearn-color-icon);\n",
       "}\n",
       "\n",
       "#sk-container-id-1 label.sk-toggleable__label-arrow:hover:before {\n",
       "  color: var(--sklearn-color-text);\n",
       "}\n",
       "\n",
       "/* Toggleable content - dropdown */\n",
       "\n",
       "#sk-container-id-1 div.sk-toggleable__content {\n",
       "  max-height: 0;\n",
       "  max-width: 0;\n",
       "  overflow: hidden;\n",
       "  text-align: left;\n",
       "  /* unfitted */\n",
       "  background-color: var(--sklearn-color-unfitted-level-0);\n",
       "}\n",
       "\n",
       "#sk-container-id-1 div.sk-toggleable__content.fitted {\n",
       "  /* fitted */\n",
       "  background-color: var(--sklearn-color-fitted-level-0);\n",
       "}\n",
       "\n",
       "#sk-container-id-1 div.sk-toggleable__content pre {\n",
       "  margin: 0.2em;\n",
       "  border-radius: 0.25em;\n",
       "  color: var(--sklearn-color-text);\n",
       "  /* unfitted */\n",
       "  background-color: var(--sklearn-color-unfitted-level-0);\n",
       "}\n",
       "\n",
       "#sk-container-id-1 div.sk-toggleable__content.fitted pre {\n",
       "  /* unfitted */\n",
       "  background-color: var(--sklearn-color-fitted-level-0);\n",
       "}\n",
       "\n",
       "#sk-container-id-1 input.sk-toggleable__control:checked~div.sk-toggleable__content {\n",
       "  /* Expand drop-down */\n",
       "  max-height: 200px;\n",
       "  max-width: 100%;\n",
       "  overflow: auto;\n",
       "}\n",
       "\n",
       "#sk-container-id-1 input.sk-toggleable__control:checked~label.sk-toggleable__label-arrow:before {\n",
       "  content: \"▾\";\n",
       "}\n",
       "\n",
       "/* Pipeline/ColumnTransformer-specific style */\n",
       "\n",
       "#sk-container-id-1 div.sk-label input.sk-toggleable__control:checked~label.sk-toggleable__label {\n",
       "  color: var(--sklearn-color-text);\n",
       "  background-color: var(--sklearn-color-unfitted-level-2);\n",
       "}\n",
       "\n",
       "#sk-container-id-1 div.sk-label.fitted input.sk-toggleable__control:checked~label.sk-toggleable__label {\n",
       "  background-color: var(--sklearn-color-fitted-level-2);\n",
       "}\n",
       "\n",
       "/* Estimator-specific style */\n",
       "\n",
       "/* Colorize estimator box */\n",
       "#sk-container-id-1 div.sk-estimator input.sk-toggleable__control:checked~label.sk-toggleable__label {\n",
       "  /* unfitted */\n",
       "  background-color: var(--sklearn-color-unfitted-level-2);\n",
       "}\n",
       "\n",
       "#sk-container-id-1 div.sk-estimator.fitted input.sk-toggleable__control:checked~label.sk-toggleable__label {\n",
       "  /* fitted */\n",
       "  background-color: var(--sklearn-color-fitted-level-2);\n",
       "}\n",
       "\n",
       "#sk-container-id-1 div.sk-label label.sk-toggleable__label,\n",
       "#sk-container-id-1 div.sk-label label {\n",
       "  /* The background is the default theme color */\n",
       "  color: var(--sklearn-color-text-on-default-background);\n",
       "}\n",
       "\n",
       "/* On hover, darken the color of the background */\n",
       "#sk-container-id-1 div.sk-label:hover label.sk-toggleable__label {\n",
       "  color: var(--sklearn-color-text);\n",
       "  background-color: var(--sklearn-color-unfitted-level-2);\n",
       "}\n",
       "\n",
       "/* Label box, darken color on hover, fitted */\n",
       "#sk-container-id-1 div.sk-label.fitted:hover label.sk-toggleable__label.fitted {\n",
       "  color: var(--sklearn-color-text);\n",
       "  background-color: var(--sklearn-color-fitted-level-2);\n",
       "}\n",
       "\n",
       "/* Estimator label */\n",
       "\n",
       "#sk-container-id-1 div.sk-label label {\n",
       "  font-family: monospace;\n",
       "  font-weight: bold;\n",
       "  display: inline-block;\n",
       "  line-height: 1.2em;\n",
       "}\n",
       "\n",
       "#sk-container-id-1 div.sk-label-container {\n",
       "  text-align: center;\n",
       "}\n",
       "\n",
       "/* Estimator-specific */\n",
       "#sk-container-id-1 div.sk-estimator {\n",
       "  font-family: monospace;\n",
       "  border: 1px dotted var(--sklearn-color-border-box);\n",
       "  border-radius: 0.25em;\n",
       "  box-sizing: border-box;\n",
       "  margin-bottom: 0.5em;\n",
       "  /* unfitted */\n",
       "  background-color: var(--sklearn-color-unfitted-level-0);\n",
       "}\n",
       "\n",
       "#sk-container-id-1 div.sk-estimator.fitted {\n",
       "  /* fitted */\n",
       "  background-color: var(--sklearn-color-fitted-level-0);\n",
       "}\n",
       "\n",
       "/* on hover */\n",
       "#sk-container-id-1 div.sk-estimator:hover {\n",
       "  /* unfitted */\n",
       "  background-color: var(--sklearn-color-unfitted-level-2);\n",
       "}\n",
       "\n",
       "#sk-container-id-1 div.sk-estimator.fitted:hover {\n",
       "  /* fitted */\n",
       "  background-color: var(--sklearn-color-fitted-level-2);\n",
       "}\n",
       "\n",
       "/* Specification for estimator info (e.g. \"i\" and \"?\") */\n",
       "\n",
       "/* Common style for \"i\" and \"?\" */\n",
       "\n",
       ".sk-estimator-doc-link,\n",
       "a:link.sk-estimator-doc-link,\n",
       "a:visited.sk-estimator-doc-link {\n",
       "  float: right;\n",
       "  font-size: smaller;\n",
       "  line-height: 1em;\n",
       "  font-family: monospace;\n",
       "  background-color: var(--sklearn-color-background);\n",
       "  border-radius: 1em;\n",
       "  height: 1em;\n",
       "  width: 1em;\n",
       "  text-decoration: none !important;\n",
       "  margin-left: 1ex;\n",
       "  /* unfitted */\n",
       "  border: var(--sklearn-color-unfitted-level-1) 1pt solid;\n",
       "  color: var(--sklearn-color-unfitted-level-1);\n",
       "}\n",
       "\n",
       ".sk-estimator-doc-link.fitted,\n",
       "a:link.sk-estimator-doc-link.fitted,\n",
       "a:visited.sk-estimator-doc-link.fitted {\n",
       "  /* fitted */\n",
       "  border: var(--sklearn-color-fitted-level-1) 1pt solid;\n",
       "  color: var(--sklearn-color-fitted-level-1);\n",
       "}\n",
       "\n",
       "/* On hover */\n",
       "div.sk-estimator:hover .sk-estimator-doc-link:hover,\n",
       ".sk-estimator-doc-link:hover,\n",
       "div.sk-label-container:hover .sk-estimator-doc-link:hover,\n",
       ".sk-estimator-doc-link:hover {\n",
       "  /* unfitted */\n",
       "  background-color: var(--sklearn-color-unfitted-level-3);\n",
       "  color: var(--sklearn-color-background);\n",
       "  text-decoration: none;\n",
       "}\n",
       "\n",
       "div.sk-estimator.fitted:hover .sk-estimator-doc-link.fitted:hover,\n",
       ".sk-estimator-doc-link.fitted:hover,\n",
       "div.sk-label-container:hover .sk-estimator-doc-link.fitted:hover,\n",
       ".sk-estimator-doc-link.fitted:hover {\n",
       "  /* fitted */\n",
       "  background-color: var(--sklearn-color-fitted-level-3);\n",
       "  color: var(--sklearn-color-background);\n",
       "  text-decoration: none;\n",
       "}\n",
       "\n",
       "/* Span, style for the box shown on hovering the info icon */\n",
       ".sk-estimator-doc-link span {\n",
       "  display: none;\n",
       "  z-index: 9999;\n",
       "  position: relative;\n",
       "  font-weight: normal;\n",
       "  right: .2ex;\n",
       "  padding: .5ex;\n",
       "  margin: .5ex;\n",
       "  width: min-content;\n",
       "  min-width: 20ex;\n",
       "  max-width: 50ex;\n",
       "  color: var(--sklearn-color-text);\n",
       "  box-shadow: 2pt 2pt 4pt #999;\n",
       "  /* unfitted */\n",
       "  background: var(--sklearn-color-unfitted-level-0);\n",
       "  border: .5pt solid var(--sklearn-color-unfitted-level-3);\n",
       "}\n",
       "\n",
       ".sk-estimator-doc-link.fitted span {\n",
       "  /* fitted */\n",
       "  background: var(--sklearn-color-fitted-level-0);\n",
       "  border: var(--sklearn-color-fitted-level-3);\n",
       "}\n",
       "\n",
       ".sk-estimator-doc-link:hover span {\n",
       "  display: block;\n",
       "}\n",
       "\n",
       "/* \"?\"-specific style due to the `<a>` HTML tag */\n",
       "\n",
       "#sk-container-id-1 a.estimator_doc_link {\n",
       "  float: right;\n",
       "  font-size: 1rem;\n",
       "  line-height: 1em;\n",
       "  font-family: monospace;\n",
       "  background-color: var(--sklearn-color-background);\n",
       "  border-radius: 1rem;\n",
       "  height: 1rem;\n",
       "  width: 1rem;\n",
       "  text-decoration: none;\n",
       "  /* unfitted */\n",
       "  color: var(--sklearn-color-unfitted-level-1);\n",
       "  border: var(--sklearn-color-unfitted-level-1) 1pt solid;\n",
       "}\n",
       "\n",
       "#sk-container-id-1 a.estimator_doc_link.fitted {\n",
       "  /* fitted */\n",
       "  border: var(--sklearn-color-fitted-level-1) 1pt solid;\n",
       "  color: var(--sklearn-color-fitted-level-1);\n",
       "}\n",
       "\n",
       "/* On hover */\n",
       "#sk-container-id-1 a.estimator_doc_link:hover {\n",
       "  /* unfitted */\n",
       "  background-color: var(--sklearn-color-unfitted-level-3);\n",
       "  color: var(--sklearn-color-background);\n",
       "  text-decoration: none;\n",
       "}\n",
       "\n",
       "#sk-container-id-1 a.estimator_doc_link.fitted:hover {\n",
       "  /* fitted */\n",
       "  background-color: var(--sklearn-color-fitted-level-3);\n",
       "}\n",
       "</style><div id=\"sk-container-id-1\" class=\"sk-top-container\"><div class=\"sk-text-repr-fallback\"><pre>Pipeline(steps=[(&#x27;imputer&#x27;, SimpleImputer()), (&#x27;scaler&#x27;, StandardScaler()),\n",
       "                (&#x27;model&#x27;,\n",
       "                 RandomForestClassifier(class_weight=&#x27;balanced&#x27;,\n",
       "                                        random_state=42))])</pre><b>In a Jupyter environment, please rerun this cell to show the HTML representation or trust the notebook. <br />On GitHub, the HTML representation is unable to render, please try loading this page with nbviewer.org.</b></div><div class=\"sk-container\" hidden><div class=\"sk-item sk-dashed-wrapped\"><div class=\"sk-label-container\"><div class=\"sk-label fitted sk-toggleable\"><input class=\"sk-toggleable__control sk-hidden--visually\" id=\"sk-estimator-id-1\" type=\"checkbox\" ><label for=\"sk-estimator-id-1\" class=\"sk-toggleable__label fitted sk-toggleable__label-arrow fitted\">&nbsp;&nbsp;Pipeline<a class=\"sk-estimator-doc-link fitted\" rel=\"noreferrer\" target=\"_blank\" href=\"https://scikit-learn.org/1.5/modules/generated/sklearn.pipeline.Pipeline.html\">?<span>Documentation for Pipeline</span></a><span class=\"sk-estimator-doc-link fitted\">i<span>Fitted</span></span></label><div class=\"sk-toggleable__content fitted\"><pre>Pipeline(steps=[(&#x27;imputer&#x27;, SimpleImputer()), (&#x27;scaler&#x27;, StandardScaler()),\n",
       "                (&#x27;model&#x27;,\n",
       "                 RandomForestClassifier(class_weight=&#x27;balanced&#x27;,\n",
       "                                        random_state=42))])</pre></div> </div></div><div class=\"sk-serial\"><div class=\"sk-item\"><div class=\"sk-estimator fitted sk-toggleable\"><input class=\"sk-toggleable__control sk-hidden--visually\" id=\"sk-estimator-id-2\" type=\"checkbox\" ><label for=\"sk-estimator-id-2\" class=\"sk-toggleable__label fitted sk-toggleable__label-arrow fitted\">&nbsp;SimpleImputer<a class=\"sk-estimator-doc-link fitted\" rel=\"noreferrer\" target=\"_blank\" href=\"https://scikit-learn.org/1.5/modules/generated/sklearn.impute.SimpleImputer.html\">?<span>Documentation for SimpleImputer</span></a></label><div class=\"sk-toggleable__content fitted\"><pre>SimpleImputer()</pre></div> </div></div><div class=\"sk-item\"><div class=\"sk-estimator fitted sk-toggleable\"><input class=\"sk-toggleable__control sk-hidden--visually\" id=\"sk-estimator-id-3\" type=\"checkbox\" ><label for=\"sk-estimator-id-3\" class=\"sk-toggleable__label fitted sk-toggleable__label-arrow fitted\">&nbsp;StandardScaler<a class=\"sk-estimator-doc-link fitted\" rel=\"noreferrer\" target=\"_blank\" href=\"https://scikit-learn.org/1.5/modules/generated/sklearn.preprocessing.StandardScaler.html\">?<span>Documentation for StandardScaler</span></a></label><div class=\"sk-toggleable__content fitted\"><pre>StandardScaler()</pre></div> </div></div><div class=\"sk-item\"><div class=\"sk-estimator fitted sk-toggleable\"><input class=\"sk-toggleable__control sk-hidden--visually\" id=\"sk-estimator-id-4\" type=\"checkbox\" ><label for=\"sk-estimator-id-4\" class=\"sk-toggleable__label fitted sk-toggleable__label-arrow fitted\">&nbsp;RandomForestClassifier<a class=\"sk-estimator-doc-link fitted\" rel=\"noreferrer\" target=\"_blank\" href=\"https://scikit-learn.org/1.5/modules/generated/sklearn.ensemble.RandomForestClassifier.html\">?<span>Documentation for RandomForestClassifier</span></a></label><div class=\"sk-toggleable__content fitted\"><pre>RandomForestClassifier(class_weight=&#x27;balanced&#x27;, random_state=42)</pre></div> </div></div></div></div></div></div>"
      ],
      "text/plain": [
       "Pipeline(steps=[('imputer', SimpleImputer()), ('scaler', StandardScaler()),\n",
       "                ('model',\n",
       "                 RandomForestClassifier(class_weight='balanced',\n",
       "                                        random_state=42))])"
      ]
     },
     "execution_count": 39,
     "metadata": {},
     "output_type": "execute_result"
    }
   ],
   "source": [
    "rf_pipeline.fit(X_train, y_train)"
   ]
  },
  {
   "cell_type": "code",
   "execution_count": 40,
   "id": "bb2d82e9-e522-434a-9826-c03247b720b4",
   "metadata": {},
   "outputs": [],
   "source": [
    "y_pred_rf = rf_pipeline.predict(X_test)\n",
    "y_proba_rf = rf_pipeline.predict_proba(X_test)[:, 1]"
   ]
  },
  {
   "cell_type": "code",
   "execution_count": 41,
   "id": "208c8748-7210-419f-974d-646ad8127dd2",
   "metadata": {},
   "outputs": [
    {
     "name": "stdout",
     "output_type": "stream",
     "text": [
      "Random Forest Classification Report:\n",
      "              precision    recall  f1-score   support\n",
      "\n",
      "           0       0.98      0.90      0.94    114632\n",
      "           1       0.08      0.32      0.13      2989\n",
      "\n",
      "    accuracy                           0.89    117621\n",
      "   macro avg       0.53      0.61      0.54    117621\n",
      "weighted avg       0.96      0.89      0.92    117621\n",
      "\n"
     ]
    }
   ],
   "source": [
    "print(\"Random Forest Classification Report:\")\n",
    "print(classification_report(y_test, y_pred_rf))"
   ]
  },
  {
   "cell_type": "code",
   "execution_count": 42,
   "id": "c6bbc911-eeb8-4854-821d-276c217da527",
   "metadata": {},
   "outputs": [
    {
     "data": {
      "image/png": "[encoded data removed]",
      "text/plain": [
       "<Figure size 600x400 with 2 Axes>"
      ]
     },
     "metadata": {},
     "output_type": "display_data"
    }
   ],
   "source": [
    "# Confusion Matrix for Random Forest\n",
    "cm = confusion_matrix(y_test, y_pred_rf)\n",
    "plt.figure(figsize=(6, 4))\n",
    "sns.heatmap(cm, annot=True, fmt='d', cmap='Blues')\n",
    "plt.title(\"Random Forest - Confusion Matrix\")\n",
    "plt.xlabel(\"Predicted\")\n",
    "plt.ylabel(\"Actual\")\n",
    "plt.tight_layout()\n",
    "plt.show()"
   ]
  },
  {
   "cell_type": "code",
   "execution_count": 43,
   "id": "b863902d-fa5c-4323-ba8d-32fbe1cae11b",
   "metadata": {},
   "outputs": [
    {
     "data": {
      "text/plain": [
       "<Figure size 600x400 with 0 Axes>"
      ]
     },
     "metadata": {},
     "output_type": "display_data"
    },
    {
     "data": {
      "image/png": "[encoded data removed]",
      "text/plain": [
       "<Figure size 640x480 with 1 Axes>"
      ]
     },
     "metadata": {},
     "output_type": "display_data"
    }
   ],
   "source": [
    "# ROC Curve\n",
    "plt.figure(figsize=(6, 4))\n",
    "RocCurveDisplay.from_estimator(rf_pipeline, X_test, y_test)\n",
    "plt.title(\"Random Forest - ROC Curve\")\n",
    "plt.tight_layout()\n",
    "plt.show()"
   ]
  },
  {
   "cell_type": "code",
   "execution_count": 44,
   "id": "dbc894fe-1fec-4143-9572-a9e808ac09d9",
   "metadata": {},
   "outputs": [],
   "source": [
    "with open(\"model.pkl\", \"wb\") as f:\n",
    "    pickle.dump(rf_pipeline, f)\n",
    "\n",
    "with open(\"input_columns.pkl\", \"wb\") as f:\n",
    "    pickle.dump(X.columns.tolist(), f)"
   ]
  },
  {
   "cell_type": "markdown",
   "id": "a62f2f1f-b3b1-4fa4-be8e-8f1186b18571",
   "metadata": {},
   "source": [
    "**Random Forest - Results & Interpretation:**"
   ]
  },
  {
   "cell_type": "markdown",
   "id": "aabda47d",
   "metadata": {
    "jp-MarkdownHeadingCollapsed": true
   },
   "source": [
    "- AUC Score: 0.62 → Much weaker ability to distinguish between converters and non-converters\n",
    "- Accuracy: 89% (looks good but misleading!)\n",
    "- Recall for Converters (Class 1): 32% → Missed 2 out of every 3 converters\n",
    "- Precision: 8% → Lower than Logistic Regression\n",
    "\n",
    "**What this means:**                                                                                                                                    \n",
    "Despite a higher overall accuracy, Random Forest failed to detect most converters, which defeats the purpose of this project. It got “too good” at identifying non-converters, ignoring the positive class we care about."
   ]
  },
  {
   "cell_type": "markdown",
   "id": "82972061-7c3e-4a1c-94b1-bb463b10e9d4",
   "metadata": {},
   "source": [
    "**Random Forest - Revenue Impact:**\n",
    "\n",
    "- Converters correctly identified: 969\n",
    "- Missed converters: 2,020\n",
    "- If each conversion brings in $75, then:\n",
    "\n",
    "    ✅ Revenue captured: 969 × $75 = $72,675\n",
    "\n",
    "    ❌ Revenue missed: 2,020 × $75 = $151,500\n",
    "\n",
    "***That’s $82,875 less than Logistic Regression.                                                                                                        \n",
    "👉 So, Logistic Regression was nearly twice as profitable.***"
   ]
  },
  {
   "cell_type": "markdown",
   "id": "abd63322",
   "metadata": {},
   "source": [
    "## Conclusions"
   ]
  },
  {
   "cell_type": "markdown",
   "id": "7655ab9e-1928-4755-a9cd-8ad9eef94581",
   "metadata": {},
   "source": [
    "This project at Amazon proved the power of machine learning in marketing optimization. By comparing Logistic Regression and Random Forest Classifier models, we learned that simplicity, interpretability, and alignment with business goals are often more valuable than complex architectures.\n",
    "\n",
    "The Logistic Regression model was chosen as the final solution due to its:\n",
    "\n",
    "- Confusion Matrix: Logistic Regression found more converters and had fewer misses.\n",
    "\n",
    "- ROC Curve: Logistic Regression curve was closer to the top-left (ideal) with AUC = 0.85, while Random Forest’s curve stayed closer to the diagonal (AUC = 0.62), indicating near-random predictions.\n",
    "\n",
    "- High recall (69%) in catching actual converters.\n",
    "\n",
    "- Simplicity and transparency for cross-functional collaboration.\n",
    "\n",
    "Although the Random Forest model delivered slightly higher overall accuracy (89%), it significantly underperformed in recall (32%) and AUC (0.62), leading to missed revenue opportunities.\n",
    "\n",
    "The business impact at Amazon was substantial:\n",
    "\n",
    "- Over $150,000 in additional revenue captured in the test phase alone\n",
    "\n",
    "- A 2× improvement in identifying converters compared to Random Forest\n",
    "\n",
    "- Smarter campaign targeting that led to increased return on ad spend (ROAS) and reduced waste\n",
    "\n",
    "💡 This project was a key win in our data-driven marketing strategy and highlighted the power of model selection, business alignment, and interpretable AI.\n",
    "\n",
    "***As a result of this initiative, the team gained deeper trust from stakeholders, and this modeling framework became a template for future conversion-based predictive modeling efforts — not only within Amazon but also adaptable for companies like Netflix, Meta, Spotify, and Uber, where customer behavior prediction is central to growth.***"
   ]
  },
  {
   "cell_type": "markdown",
   "id": "64f5b7eb-1119-4dac-a3cd-542cb3dc9482",
   "metadata": {},
   "source": [
    "### Business Recommendations"
   ]
  },
  {
   "cell_type": "markdown",
   "id": "32626174-c053-46be-99cd-1450fa8bfff5",
   "metadata": {},
   "source": [
    "- ***Adopt Logistic Regression as the primary model for conversion prediction:***\n",
    "\n",
    "    This model provided a balance of accuracy, interpretability, and high recall, making it ideal for identifying potential converters while minimizing missed opportunities.\n",
    "\n",
    "\n",
    "- ***Avoid relying on Random Forest in similar conversion-focused tasks unless further tuned or optimized:***\n",
    "\n",
    "    Despite being a more advanced model, it underperformed in identifying positive conversions.\n",
    "\n",
    "    This illustrates that complexity doesn't always equal better performance, especially when recall for rare but valuable events (like conversions) is the priority.\n",
    "\n",
    "\n",
    "- ***Integrate the Logistic Regression model into your campaign management system:***\n",
    "\n",
    "    Use predicted conversion probabilities to:\n",
    "\n",
    "    - Segment users into high, medium, and low intent groups.\n",
    "\n",
    "    - Prioritize ad spend toward high-probability converters.\n",
    "\n",
    "    - Offer differentiated promotions or recommendations.                                                                                                           \n",
    "\n",
    "- ***Establish regular monitoring of model performance:***\n",
    "\n",
    "    Track precision, recall, and business KPIs weekly.\n",
    "\n",
    "    If performance drops, consider retraining with new data or adjusting thresholds.\n",
    "\n",
    "\n",
    "- ***Recommend applying this approach across similar domains:***\n",
    "\n",
    "    For Netflix, this same strategy could be applied to:\n",
    "\n",
    "    - Predicting which users are likely to subscribe after a free trial\n",
    "\n",
    "    - Identifying users likely to churn and proactively engaging them\n",
    "\n",
    "    - Personalizing recommendations based on engagement signals\n",
    "\n",
    "    - Optimizing content promotion spend on users likely to engage\n"
   ]
  },
  {
   "cell_type": "markdown",
   "id": "8f85581b-604d-4730-8002-a8eb143e6134",
   "metadata": {},
   "source": [
    "-----"
   ]
  },
  {
   "cell_type": "markdown",
   "id": "03fb8630-74ff-4e62-b206-d6e343524abf",
   "metadata": {},
   "source": [
    "## Explainability - SHAP Insights"
   ]
  },
  {
   "cell_type": "code",
   "execution_count": 25,
   "id": "16156f3f-3665-4c99-a99f-25b79adb7d1b",
   "metadata": {},
   "outputs": [],
   "source": [
    "import pandas as pd\n",
    "import joblib"
   ]
  },
  {
   "cell_type": "code",
   "execution_count": 5,
   "id": "c24aef93-5a78-4945-b4ec-8713ead92a89",
   "metadata": {},
   "outputs": [],
   "source": [
    "# Load cleaned dataset\n",
    "df = pd.read_csv(r\"C:\\Users\\sweet\\Desktop\\DataScience\\Github projects\\Deployment files\\PowerBI-AB_Testing+ConversionML\\Marketing_AB_Testing.csv\")\n",
    "\n",
    "# Load your trained model\n",
    "model = joblib.load(r\"C:\\Users\\sweet\\Desktop\\DataScience\\Github projects\\Deployment files\\Marketing-AB-Testing-streamlit\\AB_testing+ML_Prediction\\model.pkl\")\n",
    "input_cols = joblib.load(r\"C:\\Users\\sweet\\Desktop\\DataScience\\Github projects\\Deployment files\\Marketing-AB-Testing-streamlit\\AB_testing+ML_Prediction\\input_columns.pkl\")"
   ]
  },
  {
   "cell_type": "code",
   "execution_count": 26,
   "id": "c08ce62f-4c0c-48f9-9b3d-9d415053dc5a",
   "metadata": {},
   "outputs": [],
   "source": [
    "# Predict on X_test\n",
    "y_pred_log = log_pipeline.predict(X_test)\n",
    "y_proba_log = log_pipeline.predict_proba(X_test)[:, 1]"
   ]
  },
  {
   "cell_type": "code",
   "execution_count": 27,
   "id": "c6f199b6-2d6f-411c-b07d-f192aa8f6927",
   "metadata": {},
   "outputs": [],
   "source": [
    "\n",
    "# Rebuild test DataFrame\n",
    "X_test_export = X_test.copy()\n",
    "X_test_export[\"actual_converted\"] = y_test\n",
    "X_test_export[\"predicted_class\"] = y_pred_log\n",
    "X_test_export[\"predicted_probability\"] = y_proba_log"
   ]
  },
  {
   "cell_type": "code",
   "execution_count": 28,
   "id": "f255bf81-b1ff-428b-a4e8-4d7b58920533",
   "metadata": {},
   "outputs": [],
   "source": [
    "X_test_export.to_csv(r\"C:\\Users\\sweet\\Desktop\\DataScience\\Github projects\\Deployment files\\PowerBI-AB_Testing+ConversionML\\Marketing_AB_Testing_with_predictions.csv\", index=False)"
   ]
  },
  {
   "cell_type": "code",
   "execution_count": 29,
   "id": "0b4c0a43-b134-4fc4-ad02-14b97f9d8636",
   "metadata": {},
   "outputs": [],
   "source": [
    "import shap\n",
    "\n",
    "# Prepare explainer\n",
    "explainer = shap.Explainer(log_pipeline.named_steps[\"model\"], X_train)\n",
    "\n",
    "# Compute SHAP values (optional for Page 3)\n",
    "shap_values = explainer(X_test)"
   ]
  },
  {
   "cell_type": "code",
   "execution_count": 30,
   "id": "bc634225-629b-4add-91d9-5061195c00f5",
   "metadata": {},
   "outputs": [],
   "source": [
    "# Global importance\n",
    "shap_df = pd.DataFrame(shap_values.values, columns=X_train.columns)\n",
    "shap_mean = shap_df.abs().mean().sort_values(ascending=False)\n",
    "# Global feature importance\n",
    "shap_df = pd.DataFrame(shap_values.values, columns=X_test.columns)\n",
    "shap_importance = shap_df.abs().mean().sort_values(ascending=False)\n",
    "\n",
    "# Export to CSV\n",
    "shap_importance.to_frame(name=\"SHAP Impact\").to_csv(r\"C:\\Users\\sweet\\Desktop\\DataScience\\Github projects\\Deployment files\\PowerBI-AB_Testing+ConversionML\\shap_global_importance.csv\")"
   ]
  },
  {
   "cell_type": "code",
   "execution_count": 31,
   "id": "48198da6-861d-48a5-abe4-18f5c7b6e3af",
   "metadata": {},
   "outputs": [],
   "source": [
    "# Extract raw model and preprocess test data\n",
    "from sklearn.impute import SimpleImputer\n",
    "from sklearn.preprocessing import StandardScaler\n",
    "\n",
    "# Prepare raw X_test used by the model\n",
    "imputer = SimpleImputer(strategy='mean')\n",
    "scaler = StandardScaler()\n",
    "\n",
    "X_test_imputed = imputer.fit_transform(X_test)\n",
    "X_test_scaled = scaler.fit_transform(X_test_imputed)\n",
    "\n",
    "# Get the raw model\n",
    "log_model = log_pipeline.named_steps['model']"
   ]
  },
  {
   "cell_type": "code",
   "execution_count": 32,
   "id": "e69990d5-e8b1-42cf-ad18-0ec04ce635a5",
   "metadata": {},
   "outputs": [],
   "source": [
    "import shap\n",
    "\n",
    "explainer = shap.Explainer(log_model, X_test_scaled)\n",
    "shap_values = explainer(X_test_scaled)\n"
   ]
  },
  {
   "cell_type": "code",
   "execution_count": 33,
   "id": "da05e648-a278-470a-874a-cf84a6ed923b",
   "metadata": {},
   "outputs": [
    {
     "data": {
      "image/png": "[encoded data removed]",
      "text/plain": [
       "<Figure size 800x550 with 2 Axes>"
      ]
     },
     "metadata": {},
     "output_type": "display_data"
    }
   ],
   "source": [
    "shap.summary_plot(shap_values, features=X_test_scaled, feature_names=X_test.columns)"
   ]
  },
  {
   "cell_type": "code",
   "execution_count": 34,
   "id": "11dcc9eb-b878-4295-aa33-09228141e690",
   "metadata": {},
   "outputs": [
    {
     "data": {
      "image/png": "[encoded data removed]",
      "text/plain": [
       "<Figure size 800x650 with 3 Axes>"
      ]
     },
     "metadata": {},
     "output_type": "display_data"
    }
   ],
   "source": [
    "# For example, explain the first test sample\n",
    "shap.plots.waterfall(shap_values[0])"
   ]
  },
  {
   "cell_type": "code",
   "execution_count": 35,
   "id": "901dd7a6-9a8f-4858-a871-3a9a7a1517ad",
   "metadata": {},
   "outputs": [
    {
     "data": {
      "image/png": "[encoded data removed]",
      "text/plain": [
       "<Figure size 800x650 with 4 Axes>"
      ]
     },
     "metadata": {},
     "output_type": "display_data"
    }
   ],
   "source": [
    "import matplotlib.pyplot as plt\n",
    "\n",
    "plt.figure()\n",
    "shap.summary_plot(shap_values, features=X_test_scaled, feature_names=X_test.columns, show=False)\n",
    "plt.savefig(r\"C:\\Users\\sweet\\Desktop\\DataScience\\Github projects\\Deployment files\\PowerBI-AB_Testing+ConversionML\\shap_summary_plot.png\", bbox_inches='tight')\n",
    "\n",
    "# Save waterfall for first sample\n",
    "shap.plots.waterfall(shap_values[0], show=False)\n",
    "plt.savefig(r\"C:\\Users\\sweet\\Desktop\\DataScience\\Github projects\\Deployment files\\PowerBI-AB_Testing+ConversionML\\shap_waterfall_plot_0.png\", bbox_inches='tight')"
   ]
  },
  {
   "cell_type": "markdown",
   "id": "2e387df8-2c42-409e-8819-87bb603d5cfc",
   "metadata": {},
   "source": [
    "**✅ Global SHAP Summary Plot: Key Insights**\n",
    "\n",
    "**🔍 What this plot tells us:**            \n",
    "- Each dot = 1 user\n",
    "\n",
    "- X-axis = SHAP value → impact of the feature on conversion prediction\n",
    "\n",
    "- Color = actual feature value (red = high, blue = low)\n",
    "\n",
    "**📌 Key Global Drivers:**         \n",
    "1. total ads\n",
    "\n",
    "- Most important feature influencing conversion.\n",
    "\n",
    "- High total ads (red) increase conversion likelihood significantly.\n",
    "\n",
    "- This suggests aggressive ad exposure correlates with higher conversion.\n",
    "\n",
    "2. most ads hour\n",
    "\n",
    "- Higher ad impressions during specific hours (esp. late evening) are positively correlated with conversions.\n",
    "\n",
    "- Reflects that ad timing strategy matters.\n",
    "\n",
    "3. most ads day_Monday / Saturday / Tuesday etc.\n",
    "\n",
    "- These binary indicators (from one-hot encoding) show which day the user saw most ads.\n",
    "\n",
    "- For example:\n",
    "\n",
    "    - Users seeing most ads on Monday or Saturday seem to slightly increase conversion likelihood.\n",
    "\n",
    "    - Less contribution compared to total ads, but still directional.\n",
    "\n",
    "4. test group\n",
    "\n",
    "- This encodes PSA (0) vs. Ad exposure (1).\n",
    "\n",
    "- As expected, being in the ad group slightly improves chances of conversion, but the SHAP impact is smaller compared to total ads.\n",
    "\n",
    "**🎯 Interpretation:**         \n",
    "- The volume and timing of ads are more powerful conversion drivers than the group itself (ad vs. PSA).\n",
    "\n",
    "- Implies that even within the ad group, strategy and saturation level dictate success more than mere presence in the group."
   ]
  },
  {
   "cell_type": "markdown",
   "id": "d1e349cb-d9de-41c4-874d-010fba84978b",
   "metadata": {},
   "source": [
    "**✅ SHAP Waterfall Plot (for one sample user)**\n",
    "\n",
    "**🔍 What this shows:**\n",
    "- Explains how prediction for one user was made.\n",
    "\n",
    "- Starts at baseline value (average model output: ~-0.71 log-odds), adds/subtracts feature contributions.\n",
    "\n",
    "- Each bar = contribution of a feature to push the prediction toward conversion (right) or no conversion (left).\n",
    "\n",
    "**📌 For This Sample:**\n",
    "- Feature 1 (likely total ads) contributes +0.22 toward a positive conversion prediction.\n",
    "\n",
    "- Feature 4 (possibly most ads hour) also increases the likelihood.\n",
    "\n",
    "- Others (Features 2, 3, 5, etc.) slightly pull the prediction back toward 0.\n",
    "\n",
    "*This matches the global story — even a single user’s prediction is most influenced by ad volume and timing.*"
   ]
  }
 ],
 "metadata": {
  "kernelspec": {
   "display_name": "Python 3 (ipykernel)",
   "language": "python",
   "name": "python3"
  },
  "language_info": {
   "codemirror_mode": {
    "name": "ipython",
    "version": 3
   },
   "file_extension": ".py",
   "mimetype": "text/x-python",
   "name": "python",
   "nbconvert_exporter": "python",
   "pygments_lexer": "ipython3",
   "version": "3.12.7"
  }
 },
 "nbformat": 4,
 "nbformat_minor": 5
}
